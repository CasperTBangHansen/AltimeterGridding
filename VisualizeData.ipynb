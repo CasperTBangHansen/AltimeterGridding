{
 "cells": [
  {
   "cell_type": "code",
   "execution_count": 1,
   "metadata": {},
   "outputs": [],
   "source": [
    "import xarray as xr\n",
    "from pathlib import Path\n",
    "from typing import Iterable, List, Optional, Tuple\n",
    "import numpy.typing as npt\n",
    "import matplotlib.pyplot as plt\n",
    "import numpy as np\n",
    "import imageio.v2 as imageio\n",
    "from grid import file_to_date\n",
    "def load_netcdfs(paths: Iterable[Path]) -> List[xr.Dataset]:\n",
    "    \"\"\"Loads a list of netCDF files\"\"\"\n",
    "    return [xr.open_dataset(p.as_posix(),engine=\"netcdf4\") for p in paths]"
   ]
  },
  {
   "cell_type": "code",
   "execution_count": 2,
   "metadata": {},
   "outputs": [],
   "source": [
    "# Resolution\n",
    "RES = \"01d\"\n",
    "res = \"1\""
   ]
  },
  {
   "cell_type": "code",
   "execution_count": 3,
   "metadata": {},
   "outputs": [],
   "source": [
    "def plot_grid(\n",
    "    x_grid: npt.NDArray[np.float64],\n",
    "    y_grid: npt.NDArray[np.float64],\n",
    "    grid: npt.NDArray[np.float64],\n",
    "    datavar: str,\n",
    "    lon_boundary: Optional[Tuple[float, float]] = None,\n",
    "    lat_boundary: Optional[Tuple[float, float]] = None,\n",
    "    points_lon: Optional[npt.NDArray[np.float64]] = None,\n",
    "    points_lat: Optional[npt.NDArray[np.float64]] = None,\n",
    "    figsize: Tuple[float, float] = (10, 3),\n",
    "    cmap: str = \"jet\",\n",
    "    vmin: Optional[float] = None,\n",
    "    vmax: Optional[float] = None,\n",
    "    title: str = None,\n",
    "    pic_name: str = None\n",
    ") -> None:\n",
    "    # Input handling\n",
    "    if lon_boundary is None:\n",
    "        lon_boundary = [x_grid[0,:].min(), x_grid[0,:].max()]\n",
    "    if lat_boundary is None:\n",
    "        lat_boundary = [y_grid[:,0].min(), y_grid[:,0].max()]\n",
    "    if vmin is None:\n",
    "        vmin = grid.min()\n",
    "    if vmax is None:\n",
    "        vmax = grid.max()\n",
    "\n",
    "    # Extent of the grid\n",
    "    extent = [*lon_boundary, *lat_boundary]\n",
    "\n",
    "    # Valid points in the choosen boundary\n",
    "    if points_lon is not None and points_lat is not None:\n",
    "        points_in_zone = (\n",
    "            (points_lon >= extent[0])\n",
    "            & (points_lon <= extent[1])\n",
    "            & (points_lat >= extent[2])\n",
    "            & (points_lat <= extent[3])\n",
    "        )\n",
    "    \n",
    "    # Plot\n",
    "    fig = plt.figure(figsize=figsize)\n",
    "    plt.imshow(grid, extent=extent, origin='lower', vmin=vmin, vmax=vmax, cmap=cmap)\n",
    "    cbar = plt.colorbar()\n",
    "    if points_lon is not None and points_lat is not None:\n",
    "        plt.scatter(points_lon[points_in_zone], points_lat[points_in_zone], s=1, color=(0,0,0,0.01))\n",
    "    plt.xlim(lon_boundary)\n",
    "    plt.ylim(lat_boundary)\n",
    "    plt.xlabel(f\"Longitude [\\N{DEGREE SIGN}]\")\n",
    "    plt.ylabel(f\"Latitude [\\N{DEGREE SIGN}]\")\n",
    "    plt.title(title)\n",
    "    cbar.set_label(f\"{datavar} [m]\")\n",
    "    Path(f\"Grids/{RES}/figs/{datavar}\").mkdir(parents=True,exist_ok=True)\n",
    "    plt.savefig(Path(f\"Grids/{RES}/figs/{datavar}/{pic_name}.png\"))\n",
    "    plt.close()\n",
    "    # plt.show()"
   ]
  },
  {
   "cell_type": "code",
   "execution_count": 4,
   "metadata": {},
   "outputs": [],
   "source": [
    "grid_paths = Path(f'Grids/{RES}/3days').glob('2004*.nc')\n",
    "grids = load_netcdfs(grid_paths)\n",
    "# raw_paths = [Path(f'Processed','all',path) for path in ['2005_1_17.nc','2005_1_18.nc','2005_1_19.nc']]\n",
    "# raw = load_netcdfs(raw_paths)\n",
    "# raw = xr.concat(raw,dim=\"time\")\n",
    "# grid_day = load_netcdfs([Path(f'Grids/{RES}/3days/2005_1_18_10m.nc')])"
   ]
  },
  {
   "cell_type": "code",
   "execution_count": 5,
   "metadata": {},
   "outputs": [
    {
     "data": {
      "text/plain": [
       "7.266554636335684"
      ]
     },
     "execution_count": 5,
     "metadata": {},
     "output_type": "execute_result"
    }
   ],
   "source": [
    "np.nanmedian(grids[0].wind_speed.data)"
   ]
  },
  {
   "cell_type": "code",
   "execution_count": 6,
   "metadata": {},
   "outputs": [],
   "source": [
    "cbar: dict[str,list[float]] = {\n",
    "    \"sla\": [-.75,.75],\n",
    "    \"sst\": [0,25],\n",
    "    \"swh\": [0,5],\n",
    "    \"wind_speed\": [0,12]\n",
    "}\n",
    "for path,grid in zip(Path(f'Grids/{RES}/3days').glob('*.nc'),grids):\n",
    "# for path,grid in zip(raw_paths, grid_day):\n",
    "    titlename = \"-\".join(path.name.split(\".\")[0].split(\"_\")[:3])\n",
    "    filename = \"_\".join(path.name.split(\".\")[0].split(\"_\")[:3])\n",
    "    for datavar in grid.data_vars:\n",
    "        plot_grid(\n",
    "            x_grid=grid.lons.values, \n",
    "            y_grid=grid.lats.values, \n",
    "            grid=grid[datavar].values,\n",
    "            datavar=datavar,\n",
    "            # points_lon = raw.lon.values,\n",
    "            # points_lat = raw.lat.values,\n",
    "            lon_boundary=(-180,180), \n",
    "            lat_boundary=(-80,80),\n",
    "            figsize=(15,5),\n",
    "            vmax=cbar[datavar][0], \n",
    "            vmin=cbar[datavar][1],\n",
    "            title=f\"{datavar} {titlename}\\n3 day moving window - {res}\\N{DEGREE SIGN} grid resolution\",\n",
    "            pic_name=f\"{filename}\"\n",
    "            # pic_name=filename\n",
    "        )"
   ]
  },
  {
   "cell_type": "code",
   "execution_count": 7,
   "metadata": {},
   "outputs": [],
   "source": [
    "for datavar in grids[0].data_vars:\n",
    "    images = []\n",
    "    basepath = Path(f'Grids/{RES}/figs/{datavar}')\n",
    "    grid_paths = basepath.glob('*.png')\n",
    "\n",
    "    dates = []\n",
    "    for file in grid_paths:\n",
    "        dt = file_to_date(file)\n",
    "        dates.append(dt)\n",
    "    dates.sort()\n",
    "\n",
    "    for d in dates:\n",
    "        filename = f\"{basepath.as_posix()}/{d.year}_{d.month}_{d.day}.png\"\n",
    "        images.append(imageio.imread(filename))\n",
    "    imageio.mimsave(f'Grids/{RES}/figs/{datavar}/{d.year}.gif', images)"
   ]
  },
  {
   "cell_type": "code",
   "execution_count": null,
   "metadata": {},
   "outputs": [],
   "source": []
  }
 ],
 "metadata": {
  "kernelspec": {
   "display_name": "Python 3",
   "language": "python",
   "name": "python3"
  },
  "language_info": {
   "codemirror_mode": {
    "name": "ipython",
    "version": 3
   },
   "file_extension": ".py",
   "mimetype": "text/x-python",
   "name": "python",
   "nbconvert_exporter": "python",
   "pygments_lexer": "ipython3",
   "version": "3.10.9"
  },
  "orig_nbformat": 4,
  "vscode": {
   "interpreter": {
    "hash": "1aa5921304f191d66498aa3f76e8ef46bc5a16049aabd8f35e6c8c63f60cfc91"
   }
  }
 },
 "nbformat": 4,
 "nbformat_minor": 2
}
