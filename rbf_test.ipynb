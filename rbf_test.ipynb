{
 "cells": [
  {
   "cell_type": "code",
   "execution_count": 33,
   "metadata": {},
   "outputs": [],
   "source": [
    "from typing import Optional, List, Any, Tuple\n",
    "\n",
    "import numpy as np\n",
    "import numpy.typing as npt\n",
    "from haversine import haversine_vector, Unit\n",
    "from src.interpolation._rbfinterp import _build_and_solve_system as _build_and_solve_system2\n",
    "from src.interpolation._rbfinterp_pythran import (_build_system, _build_evaluation_coefficients, _polynomial_matrix)\n",
    "from scipy.linalg.lapack import dgesv\n",
    "\n",
    "float_like = npt.NDArray[np.floating[Any]]"
   ]
  },
  {
   "cell_type": "code",
   "execution_count": 96,
   "metadata": {},
   "outputs": [],
   "source": [
    "def _construct_Amatrix(distances, delta_times, distance_weight, time_weight):\n",
    "    return -np.sqrt((distance_weight * distances)**2 + (time_weight * delta_times)**2)\n",
    "\n",
    "def _build_and_solve_system(y, t, distance_weight = 0.1, time_weight = 0.5625):\n",
    "    \"\"\"Build and solve the RBF interpolation system of equations\"\"\"\n",
    "    distances = haversine_vector(y[:, [1, 0]], y[:, [1, 0]], Unit.KILOMETERS, comb=True)\n",
    "    delta_times = y[:, 2:3] - y[:, 2:3].T\n",
    "    a_matrix = _construct_Amatrix(distances, delta_times, distance_weight, time_weight)\n",
    "    _, _, weight, _ = dgesv(a_matrix, t, overwrite_a=False, overwrite_b=False)\n",
    "    return weight\n",
    "\n",
    "def _evaluator(\n",
    "    x: float_like,\n",
    "    y: float_like,\n",
    "    weights: float_like,\n",
    "    distance_weight = 0.1,\n",
    "    time_weight = 0.5625\n",
    "):\n",
    "    \"\"\"\n",
    "    Evaluate the interpolation.\n",
    "    \"\"\"\n",
    "    distances = haversine_vector(x[[1, 0]], y[:, [1, 0]], Unit.KILOMETERS, comb=True)\n",
    "    delta_times = x[2] - y[:, 2]\n",
    "    a_matrix = _construct_Amatrix(distances, delta_times, distance_weight, time_weight)\n",
    "    return np.dot(a_matrix, weights)\n",
    "\n",
    "def build_and_evaluate(\n",
    "    x: float_like,\n",
    "    y: float_like,\n",
    "    t: float_like,\n",
    "    distance_weight = 0.1,\n",
    "    time_weight = 0.5625\n",
    "):\n",
    "    weights = _build_and_solve_system(y, t, distance_weight, time_weight)\n",
    "    return _evaluator(x, y, weights, distance_weight, time_weight)"
   ]
  },
  {
   "cell_type": "code",
   "execution_count": 11,
   "metadata": {},
   "outputs": [],
   "source": [
    "def _chunk_evaluator(\n",
    "    x: float_like,\n",
    "    y: float_like,\n",
    "    shift: float_like,\n",
    "    scale: float_like,\n",
    "    coeffs: float_like,\n",
    "    memory_budget: int = 1000000\n",
    "):\n",
    "    \"\"\"\n",
    "    Evaluate the interpolation while controlling memory consumption.\n",
    "    We chunk the input if we need more memory than specified.\n",
    "\n",
    "    Parameters\n",
    "    ----------\n",
    "    x : (Q, N) float ndarray\n",
    "        array of points on which to evaluate\n",
    "    y: (P, N) float ndarray\n",
    "        array of points on which we know function values\n",
    "    shift: (N, ) ndarray\n",
    "        Domain shift used to create the polynomial matrix.\n",
    "    scale : (N,) float ndarray\n",
    "        Domain scaling used to create the polynomial matrix.\n",
    "    coeffs: (P+R, S) float ndarray\n",
    "        Coefficients in front of basis functions\n",
    "    memory_budget: int\n",
    "        Total amount of memory (in units of sizeof(float)) we wish\n",
    "        to devote for storing the array of coefficients for\n",
    "        interpolated points. If we need more memory than that, we\n",
    "        chunk the input.\n",
    "\n",
    "    Returns\n",
    "    -------\n",
    "    (Q, S) float ndarray\n",
    "    Interpolated array\n",
    "    \"\"\"\n",
    "    nx, ndim = x.shape\n",
    "    nnei = 1000\n",
    "    # in each chunk we consume the same space we already occupy\n",
    "    chunksize = memory_budget // ((1 + nnei)) + 1\n",
    "    if chunksize <= nx:\n",
    "        out = np.empty((nx, 1), dtype=float)\n",
    "        for i in range(0, nx, chunksize):\n",
    "            vec = _build_evaluation_coefficients(\n",
    "                x[i:i + chunksize, :],\n",
    "                y,\n",
    "                \"haversine\",\n",
    "                1.0,\n",
    "                np.array([[0, 0, 0]]),\n",
    "                shift,\n",
    "                scale)\n",
    "            out[i:i + chunksize, :] = np.dot(vec, coeffs)\n",
    "    else:\n",
    "        vec = _build_evaluation_coefficients(\n",
    "            x,\n",
    "            y,\n",
    "            \"haversine\",\n",
    "            1.0,\n",
    "            np.array([[0, 0, 0]]),\n",
    "            shift,\n",
    "            scale)\n",
    "        out = np.dot(vec, coeffs)\n",
    "    return out"
   ]
  },
  {
   "cell_type": "code",
   "execution_count": 97,
   "metadata": {},
   "outputs": [],
   "source": [
    "coeffs = np.load(\"coeffs.npy\")\n",
    "dnbr = np.load(\"dnbr.npy\")\n",
    "powers = np.load(\"powers.npy\")\n",
    "scale = np.load(\"scale.npy\")\n",
    "shift = np.load(\"shift.npy\")\n",
    "snbr = np.load(\"snbr.npy\")\n",
    "sub_out = np.load(\"sub_out.npy\")\n",
    "xnbr = np.load(\"xnbr.npy\")\n",
    "ynbr = np.load(\"ynbr.npy\")"
   ]
  },
  {
   "cell_type": "code",
   "execution_count": 98,
   "metadata": {},
   "outputs": [],
   "source": [
    "def test3():\n",
    "    haversine_vector(ynbr[:, [1, 0]], ynbr[:, [1, 0]], Unit.KILOMETERS, comb=True)\n",
    "def test1():\n",
    "    out = build_and_evaluate(xnbr[0], ynbr, dnbr)\n",
    "def test2():\n",
    "    shift_, scale_, coeffs_ = _build_and_solve_system2(\n",
    "        ynbr,\n",
    "        dnbr,\n",
    "        snbr,\n",
    "        \"haversine\",\n",
    "        1.0,\n",
    "        powers,\n",
    "    )\n",
    "    out_ = _chunk_evaluator(\n",
    "        xnbr,\n",
    "        ynbr,\n",
    "        shift_,\n",
    "        scale_,\n",
    "        coeffs_,\n",
    "        memory_budget=10000000000\n",
    "    )"
   ]
  },
  {
   "cell_type": "code",
   "execution_count": 100,
   "metadata": {},
   "outputs": [
    {
     "name": "stdout",
     "output_type": "stream",
     "text": [
      "309 ms ± 24.3 ms per loop (mean ± std. dev. of 7 runs, 1 loop each)\n"
     ]
    }
   ],
   "source": [
    "%%timeit\n",
    "test1()"
   ]
  },
  {
   "cell_type": "code",
   "execution_count": 101,
   "metadata": {},
   "outputs": [
    {
     "name": "stdout",
     "output_type": "stream",
     "text": [
      "139 ms ± 19.7 ms per loop (mean ± std. dev. of 7 runs, 10 loops each)\n"
     ]
    }
   ],
   "source": [
    "%%timeit\n",
    "test2()"
   ]
  }
 ],
 "metadata": {
  "kernelspec": {
   "display_name": "Python 3",
   "language": "python",
   "name": "python3"
  },
  "language_info": {
   "codemirror_mode": {
    "name": "ipython",
    "version": 3
   },
   "file_extension": ".py",
   "mimetype": "text/x-python",
   "name": "python",
   "nbconvert_exporter": "python",
   "pygments_lexer": "ipython3",
   "version": "3.10.5"
  },
  "orig_nbformat": 4
 },
 "nbformat": 4,
 "nbformat_minor": 2
}
